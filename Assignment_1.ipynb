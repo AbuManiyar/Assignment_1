{
 "cells": [
  {
   "cell_type": "markdown",
   "id": "185ea506-7ec6-4e26-8477-632c37385335",
   "metadata": {},
   "source": [
    "1. In the below elements which of them are values or an expression? eg:- values can be\r\n",
    "integer or string and expressions will be mathematical operators.\r\n",
    "'39;he'39;\r\n",
    "-87.8\r\n",
    "\n",
    "6-\r\n",
    "/\r\n",
    "+"
   ]
  },
  {
   "cell_type": "markdown",
   "id": "495de622-fdb3-42b4-ba9f-46557c0c590f",
   "metadata": {},
   "source": [
    "Answer : \n",
    "\n",
    "* is an expression\n",
    "'hello' is a string and is therefore a value\n",
    "-87.8 is an integer hence it is a value\n",
    "- is a mathematical operator hence an expression\n",
    "/ is mathematical operator hence its an expression\n",
    "+ is also a mathematical operator and hence an expression\n",
    "6 is a value"
   ]
  },
  {
   "cell_type": "markdown",
   "id": "34a1bbc4-283b-46ff-b8d5-ead1438c3bad",
   "metadata": {},
   "source": []
  },
  {
   "cell_type": "markdown",
   "id": "1bd6b654-dedc-4f58-8d4b-5c0c864d3b74",
   "metadata": {},
   "source": [
    "2. What is the difference between string and variable?"
   ]
  },
  {
   "cell_type": "markdown",
   "id": "856d17bd-1ff4-457c-ab06-d6b5dafa1211",
   "metadata": {},
   "source": [
    "Answer:\n",
    "\n",
    "String is a datatype and it stores the sentences/words/group of characters \n",
    "Variable has a datatype, either it may be string, integer or float\n",
    "\n",
    "example : s = \"hello\"\n",
    "\n",
    "here s is a variable and it holds a string \"hello\"\n"
   ]
  },
  {
   "cell_type": "markdown",
   "id": "b43cdae4-9eb8-4475-861a-10fa20610b07",
   "metadata": {},
   "source": []
  },
  {
   "cell_type": "markdown",
   "id": "9fe9b32c-1408-4ad5-85d9-0a7655584cff",
   "metadata": {},
   "source": [
    "3. Describe three different data types."
   ]
  },
  {
   "cell_type": "markdown",
   "id": "e1ac6e40-a463-47d2-96f2-13c33d91228b",
   "metadata": {},
   "source": [
    "Three different data types are:-\n",
    "\n",
    "Integer : It holds the numerical values. For ex:- 2, 0 , -5\n",
    "Float : It Holds the decimal numbers like:-  2.44 , -3.68\n",
    "String : This holds the character or words"
   ]
  },
  {
   "cell_type": "markdown",
   "id": "df9ec798-65da-4f93-ae4c-88ced122cb54",
   "metadata": {},
   "source": []
  },
  {
   "cell_type": "markdown",
   "id": "c48c7b67-c6e3-48fe-a641-7d0f036b7307",
   "metadata": {},
   "source": [
    "4. What is an expression made up of? What do all expressions do?"
   ]
  },
  {
   "cell_type": "markdown",
   "id": "274b9806-b48c-421f-88de-12d8c9fa4ee6",
   "metadata": {},
   "source": [
    "Answer :\n",
    "\n",
    "Expression is made up of operators and operands. An expression is used to evaluate something\n",
    "and is assigned to a variable."
   ]
  },
  {
   "cell_type": "markdown",
   "id": "15f1cf2a-f160-465b-814f-7b12d6dc17b2",
   "metadata": {},
   "source": []
  },
  {
   "cell_type": "markdown",
   "id": "eb1e3a88-aa4e-41ba-93be-012e61f4c990",
   "metadata": {},
   "source": [
    "5. This assignment statements, like spam = 10. What is the difference between an\r\n",
    "expression and a statement?"
   ]
  },
  {
   "cell_type": "markdown",
   "id": "a6fa8a91-6dd6-464f-8dcc-8d62af783d14",
   "metadata": {},
   "source": [
    "Answer: \n",
    "\n",
    "Expression is said to a line of code where evaluation is done or something is calculated \n",
    "and assigned but assignment statement is just a line of code where = sign is used but no \n",
    "calculation is done. "
   ]
  },
  {
   "cell_type": "markdown",
   "id": "46aa803d-d5ea-4d7d-a356-3a89fcc0c0d4",
   "metadata": {},
   "source": []
  },
  {
   "cell_type": "markdown",
   "id": "a540ad67-07d0-48e5-8ea5-95e9d6bfd5cf",
   "metadata": {},
   "source": [
    "6. After running the following code, what does the variable bacon contain?\r\n",
    "bacon = 22\r\n",
    "bacon + 1"
   ]
  },
  {
   "cell_type": "markdown",
   "id": "91b40f52-2f95-48a7-b841-55f903de1bfa",
   "metadata": {},
   "source": [
    "Answer:\n",
    "\n",
    "It remains same i.e, bacon = 22"
   ]
  },
  {
   "cell_type": "markdown",
   "id": "ef323df0-3a6d-4cb4-bc0d-4caae4680806",
   "metadata": {},
   "source": []
  },
  {
   "cell_type": "markdown",
   "id": "e4d90f70-eefd-4aa6-8166-995c9915856b",
   "metadata": {},
   "source": [
    "7. What should the values of the following two terms be?\r",
    "';spa'; +';spamspa';'9;sp'9; * 3"
   ]
  },
  {
   "cell_type": "markdown",
   "id": "9d29a4a3-51d4-4d29-92e3-6c2ad159d734",
   "metadata": {},
   "source": [
    "Answer:\n",
    "\n",
    "'spamspamspam' will be output of both the expressions."
   ]
  },
  {
   "cell_type": "markdown",
   "id": "1fc63cff-1638-4fa2-9e13-bf7558273077",
   "metadata": {},
   "source": []
  },
  {
   "cell_type": "markdown",
   "id": "1e31bb9d-1e6e-4f4e-8e93-04264f72e9f8",
   "metadata": {},
   "source": [
    "8. Why is eggs a valid variable name while 100 is invalid?"
   ]
  },
  {
   "cell_type": "markdown",
   "id": "c271d8e5-c64c-4c42-a905-bc88cc3e0d47",
   "metadata": {},
   "source": [
    "Answer:\n",
    "\n",
    "eggs is not a keyword in python and does not begin with a number hence it follows standard\n",
    "rules of syntax. While 100 is an invalid name for a variable since it begin with a number and \n",
    "does not follow standard rule."
   ]
  },
  {
   "cell_type": "markdown",
   "id": "bf70df95-77f6-42ae-94c1-f62e95ae3f4a",
   "metadata": {},
   "source": []
  },
  {
   "cell_type": "markdown",
   "id": "bd9c17d5-e3bc-42f7-af3f-505ffc2d74dd",
   "metadata": {},
   "source": [
    "9. What three functions can be used to get the integer, floating-point number, or string\r\n",
    "version of a value?"
   ]
  },
  {
   "cell_type": "markdown",
   "id": "5d230d97-1a00-43fe-96d4-2e4cf2999cdb",
   "metadata": {},
   "source": [
    "Answer:\n",
    "\n",
    "Three functions are int(), float(), str() .\n"
   ]
  },
  {
   "cell_type": "markdown",
   "id": "e7be976b-2531-49cd-8fa9-76cf647c595c",
   "metadata": {},
   "source": []
  },
  {
   "cell_type": "markdown",
   "id": "23bd3a6a-d96c-4165-af13-9dbd20a9449c",
   "metadata": {},
   "source": [
    "10. Why does this expression cause an error? How can you fix it?\n",
    "    'I have eaten' + 99 + 'burritos.' "
   ]
  },
  {
   "cell_type": "markdown",
   "id": "96b2f4fe-62aa-43d5-af9d-ebcd30ef7853",
   "metadata": {},
   "source": [
    "Answer:\n",
    "\n",
    "This throws an error because the expression has different datatypes string and integer.\n",
    "error message:\n",
    "TypeError: can only concatenate str (not \"int\") to str"
   ]
  },
  {
   "cell_type": "markdown",
   "id": "de02a8b4-2f00-4570-b75f-21e08727e4ef",
   "metadata": {},
   "source": []
  },
  {
   "cell_type": "markdown",
   "id": "3f02c122-ae21-4314-9b8e-d188d9a2b6ed",
   "metadata": {},
   "source": []
  }
 ],
 "metadata": {
  "kernelspec": {
   "display_name": "Python 3 (ipykernel)",
   "language": "python",
   "name": "python3"
  },
  "language_info": {
   "codemirror_mode": {
    "name": "ipython",
    "version": 3
   },
   "file_extension": ".py",
   "mimetype": "text/x-python",
   "name": "python",
   "nbconvert_exporter": "python",
   "pygments_lexer": "ipython3",
   "version": "3.11.2"
  }
 },
 "nbformat": 4,
 "nbformat_minor": 5
}
